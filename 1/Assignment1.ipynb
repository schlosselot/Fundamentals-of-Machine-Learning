{
 "cells": [
  {
   "cell_type": "markdown",
   "metadata": {
    "deletable": false,
    "editable": false,
    "nbgrader": {
     "cell_type": "markdown",
     "checksum": "36eae6af6a8b8707f14906e588a3ee64",
     "grade": false,
     "grade_id": "cell-a5d8c8596524d405",
     "locked": true,
     "schema_version": 3,
     "solution": false,
     "task": false
    }
   },
   "source": [
    "# ELEC 400M / EECE 571M Assignment 1: Linear models for classification\n",
    "(This assignment is a modified version of an assignment used in ECE 421 at the University of Toronto and kindly made available to us by the instructor.)\n",
    "\n",
    "In this assignment, you will be using linear models discussed in the lectures to perform a binary classification task. You will compare the performances of linear classification and logistic regression using suitable training algorithms. The implementation will be done in python using functions from the NumPy library."
   ]
  },
  {
   "cell_type": "markdown",
   "metadata": {
    "deletable": false,
    "editable": false,
    "nbgrader": {
     "cell_type": "markdown",
     "checksum": "a9a8b3c4101c3b8441a31e218145894f",
     "grade": false,
     "grade_id": "cell-6a4eff1ae721ca9a",
     "locked": true,
     "schema_version": 3,
     "solution": false,
     "task": false
    }
   },
   "source": [
    "## Data Set\n",
    "We consider the dataset of images of letters contained in file notMNIST.npz. In particular, you will use a smaller dataset that only contains the images from two letter classes: “C” (the positive class) and “J” (the negative class). The images are of size 28 × 28 pixels. The figure below shows 20 randomly selected image samples for the letters “C” and “J”.\n",
    "\n",
    "![](sample_images.eps)\n",
    "\n",
    "You will apply the function `loadData` to generate the subset of images containing only letters “C” and “J”. This script organizes the total set of 3,745 images into maller subsets containing 3,500 training images, 100 validation images and 145 test images. Their use will be further specified in the problem descriptions below."
   ]
  },
  {
   "cell_type": "code",
   "execution_count": 34,
   "metadata": {
    "deletable": false,
    "editable": false,
    "nbgrader": {
     "cell_type": "code",
     "checksum": "734015703ccb840f57bb43468c573784",
     "grade": false,
     "grade_id": "cell-eef20adb07056077",
     "locked": true,
     "schema_version": 3,
     "solution": false,
     "task": false
    }
   },
   "outputs": [
    {
     "name": "stdout",
     "output_type": "stream",
     "text": [
      "Once deleted, variables cannot be recovered. Proceed (y/[n])? y\n"
     ]
    }
   ],
   "source": [
    "%reset\n",
    "%matplotlib inline\n",
    "import matplotlib.pyplot as plt\n",
    "import numpy as np"
   ]
  },
  {
   "cell_type": "code",
   "execution_count": 35,
   "metadata": {
    "deletable": false,
    "editable": false,
    "nbgrader": {
     "cell_type": "code",
     "checksum": "a07dc59b87c2b66db4da8655d72e3bf1",
     "grade": false,
     "grade_id": "cell-9d51b6e8a7c666a1",
     "locked": true,
     "schema_version": 3,
     "solution": false,
     "task": false
    }
   },
   "outputs": [],
   "source": [
    "def loadData():\n",
    "    with np.load('notMNIST.npz') as data:\n",
    "        Data, Target = data['images'], data['labels']\n",
    "        posClass = 2\n",
    "        negClass = 9\n",
    "        dataIndx = (Target==posClass) + (Target==negClass)\n",
    "        Data = Data[dataIndx]/255.0\n",
    "        Target = Target[dataIndx].reshape(-1, 1)\n",
    "        Target[Target==posClass] = 1\n",
    "        Target[Target==negClass] = 0\n",
    "        np.random.seed(1)\n",
    "        randIndx = np.arange(len(Data))\n",
    "        np.random.shuffle(randIndx)\n",
    "        Data, Target = Data[randIndx], Target[randIndx]\n",
    "        trainData, trainTarget = Data[:3500], Target[:3500]\n",
    "        validData, validTarget = Data[3500:3600], Target[3500:3600]\n",
    "        testData, testTarget = Data[3600:], Target[3600:]\n",
    "       \n",
    "    return trainData, validData, testData, trainTarget, validTarget, testTarget"
   ]
  },
  {
   "cell_type": "markdown",
   "metadata": {
    "deletable": false,
    "editable": false,
    "nbgrader": {
     "cell_type": "markdown",
     "checksum": "8f087958f088ae0145d1e68b806545c8",
     "grade": false,
     "grade_id": "cell-5b5bf0983e23b493",
     "locked": true,
     "schema_version": 3,
     "solution": false,
     "task": false
    }
   },
   "source": [
    "## Linear Classification\n",
    "\n",
    "The first classifier is the linear classifier \n",
    "$$\\hat{y}=\\mathrm{sign}\\left(\\sum_{i=0}^dw_ix_i\\right)\\,$$\n",
    "where $x_0=1$ so that $b=w_0x_0$ is the bias term and $x_1,\\ldots, x_d$ are the input features.\n",
    "The loss function for an input-output pair $(\\underline{x}_n,y_n)$ and given model parameters $\\underline{w}$ is \n",
    "$$L_n(\\underline{w})= \\mathbf{1}\\{\\hat{y}_n\\neq y_n\\}\\;.$$\n",
    "The total loss for $N$ samples is \n",
    "$$L(\\underline{w})= \\frac{1}{N}\\sum\\limits_{n=1}^N\\mathbf{1}\\{\\hat{y}_n\\neq y_n\\}\\;.$$\n",
    "\n",
    "\n",
    "\n",
    "### Notes on Classification\n",
    "* The classification should be based on the $d=28\\times 28=784$ intensity values in an image. This means that you need to flatten the 2D images to 1D input vectors $\\underline{x}$ of length 784.\n",
    "* The outputs $\\hat{y}$ of the perceptron model are from $\\{-1,+1\\}$, while the target variable from the data set is from $\\{0,1\\}$. You need to make adjustements to account for this difference, which can include adjusting the data type."
   ]
  },
  {
   "cell_type": "markdown",
   "metadata": {
    "deletable": false,
    "editable": false,
    "nbgrader": {
     "cell_type": "markdown",
     "checksum": "6af4e6b0785c4453b46bf6443a37c31b",
     "grade": false,
     "grade_id": "cell-39aa5707539633da",
     "locked": true,
     "schema_version": 3,
     "solution": false,
     "task": false
    }
   },
   "source": [
    "### Loss Function [2 points]\n",
    "\n",
    "Implement a function to compute the classification loss as defined above. The function has three input arguments: the weight vector, the feature vectors, and the labels. It returns the total loss associated with the input."
   ]
  },
  {
   "cell_type": "code",
   "execution_count": 36,
   "metadata": {
    "deletable": false,
    "nbgrader": {
     "cell_type": "code",
     "checksum": "818a490ac40937e4f87242012417534a",
     "grade": true,
     "grade_id": "cell-ae171a05a9de28c1",
     "locked": false,
     "points": 2,
     "schema_version": 3,
     "solution": true,
     "task": false
    }
   },
   "outputs": [],
   "source": [
    "def ErrorRate (w, x, y):\n",
    "    \n",
    "    #iterate through input sets to caculate error uisng indicator function\n",
    "    errSum = 0       #error accumulator\n",
    "    for i in range(len(x)):\n",
    "        \n",
    "        #calculate inner product of <weights,inputs>\n",
    "        y_hat = np.sign(np.dot(w,x[i]))\n",
    "        \n",
    "        #accumulate error using indicator function\n",
    "        errSum += 1*(y_hat != y[i])\n",
    "        \n",
    "    return errSum / len(y)"
   ]
  },
  {
   "cell_type": "markdown",
   "metadata": {
    "deletable": false,
    "editable": false,
    "nbgrader": {
     "cell_type": "markdown",
     "checksum": "b9b449fbdd732dea70062ea3abde3e73",
     "grade": false,
     "grade_id": "cell-34e3d06afbbedc4e",
     "locked": true,
     "schema_version": 3,
     "solution": false,
     "task": false
    }
   },
   "source": [
    "### Perceptron Learning Algorithm [10 points]\n",
    "\n",
    "Implement a function for the perceptron learning algorithm (PLA) which accepts four arguments: an inital weight vector, the data, the labels, and the maximal number of iterations it executes. It is thus a version of the PLA is assured to terminate. The function returns the updated weight vector. "
   ]
  },
  {
   "cell_type": "code",
   "execution_count": 49,
   "metadata": {
    "deletable": false,
    "nbgrader": {
     "cell_type": "code",
     "checksum": "cfbe75572c9845886002b30c30286e90",
     "grade": true,
     "grade_id": "cell-8968d65ea48b9d30",
     "locked": false,
     "points": 5,
     "schema_version": 3,
     "solution": true,
     "task": false
    }
   },
   "outputs": [],
   "source": [
    "def PLA(w, x, y, maxIter):\n",
    "     \n",
    "    iterations = 0\n",
    "    errorFlag = True;  #Flag to efficiently indicate error without calling ErrorRate(). \n",
    "    while((errorFlag == True) and (iterations < maxIter)):\n",
    "        \n",
    "        iterations += 1     \n",
    "        errorFlag = False\n",
    "        i_x_misclassified = []\n",
    "        \n",
    "        #iterate through input sets \n",
    "        for i in range(len(y)):   \n",
    "            \n",
    "            #predict output: calculate inner product of <weights,inputs>\n",
    "            y_hat = np.sign(np.dot(w,x[i]))\n",
    "            \n",
    "            #check prediction against target output; if an error is detected, add the error index to a list                  \n",
    "            if (y_hat != y[i]):\n",
    "                i_x_misclassified.append(i)\n",
    "                errorFlag = True;\n",
    "        \n",
    "        #randomly choose one error and correct it \n",
    "        if errorFlag == True: \n",
    "            i = i_x_misclassified[np.random.randint(len(i_x_misclassified))]\n",
    "            y_hat = np.sign(np.dot(w,x[i]))\n",
    "            if (y_hat < y[i]):\n",
    "                w += x[i]\n",
    "            else:\n",
    "                w -= x[i]\n",
    "    #end while loop\n",
    "    \n",
    "    return w"
   ]
  },
  {
   "cell_type": "markdown",
   "metadata": {
    "deletable": false,
    "editable": false,
    "nbgrader": {
     "cell_type": "markdown",
     "checksum": "27aa2ab61179ae69bfc9d3a3b4913d73",
     "grade": false,
     "grade_id": "cell-71e4ba41ec059bc8",
     "locked": true,
     "schema_version": 3,
     "solution": false,
     "task": false
    }
   },
   "source": [
    "Test the `PLA` function by training the classifier on the training data (`trainData`, `trainTarget`) with a maximum of 100 iterations, and measuring the cassification error using the testing data (`testData`, `testTarget`). Write the test script into the box below and let it print the classiciation error."
   ]
  },
  {
   "cell_type": "code",
   "execution_count": 58,
   "metadata": {
    "deletable": false,
    "nbgrader": {
     "cell_type": "code",
     "checksum": "97993999c368017a94b44290429d704a",
     "grade": true,
     "grade_id": "cell-f6ac3ead6dede7dc",
     "locked": false,
     "points": 5,
     "schema_version": 3,
     "solution": true,
     "task": false
    }
   },
   "outputs": [
    {
     "name": "stdout",
     "output_type": "stream",
     "text": [
      "[0.02758621]\n"
     ]
    }
   ],
   "source": [
    "trainData, validData, testData, trainTarget, validTarget, testTarget = loadData()\n",
    "\n",
    "#flatten x matrix from 28x28 to 784x1 vector and add bias to each input set\n",
    "x_train = [k.flatten() for k in trainData]\n",
    "x_train = np.hstack( (np.vstack(np.ones(len(x_train))), x_train) )\n",
    "\n",
    "x_test = [k.flatten() for k in testData]\n",
    "x_test = np.hstack( (np.vstack(np.ones(len(x_test))), x_test) )\n",
    "\n",
    "#re-scale y vector from 0->1 to -1->+1\n",
    "y_train = [-1+2*k for k in trainTarget]\n",
    "y_test = [-1+2*k for k in testTarget]\n",
    "\n",
    "#seed the randomization for the PLA for comparison with the first PLA test (same seed used, thus it resets)\n",
    "np.random.seed(1)\n",
    "\n",
    "#intialize weight vector with zero vector\n",
    "w = np.zeros(len(x_train[0]))\n",
    "\n",
    "#run PLA and output in-sample error for test dataset. \n",
    "wp = PLA(w, x_train, y_train, 100)\n",
    "print(ErrorRate(wp, x_test, y_test))"
   ]
  },
  {
   "cell_type": "markdown",
   "metadata": {
    "deletable": false,
    "editable": false,
    "nbgrader": {
     "cell_type": "markdown",
     "checksum": "d48a3c6c215801e25502e9d265edcd29",
     "grade": false,
     "grade_id": "cell-beeae3997a377968",
     "locked": true,
     "schema_version": 3,
     "solution": false,
     "task": false
    }
   },
   "source": [
    "### Pocket algorithm [14 points]\n",
    "\n",
    "Implement a function for the pocket algorithm which accepts three arguments: the data, the labels, and the number of iterations it executes. It should use the function `PLA` you developed above. It returns the updated weight vector.\n",
    "\n",
    "First, briefly describe how your pocket algorithm works, and how it calls the function `PLA` above."
   ]
  },
  {
   "cell_type": "markdown",
   "metadata": {
    "deletable": false,
    "nbgrader": {
     "cell_type": "markdown",
     "checksum": "6f36bbd3bd478262c9b7a824869b20c5",
     "grade": true,
     "grade_id": "cell-a8758f5f83e66912",
     "locked": false,
     "points": 2,
     "schema_version": 3,
     "solution": true,
     "task": false
    }
   },
   "source": [
    "As the recursive PLA training proceeds, the updated weight's in-sample error can increase if the next data point is far from or on the opposite side of the ideal descision boundary. The Pocket algorithm mitigates this problem by keeping the best weight vector during training. The best weight vector is that with the lowest error This solution comes at the cost of lower computational efficiency due to calculating the in-sample error each iteration. \n",
    "\n",
    "For each iteration in a loop, the pocket algorithm runs a single iteration PLA, followed by an evaluation of the in-sample error of the entire training set. When the in-sample error for the current set is the lowest on record, that set of weights is saved. The loop repeated a pre-selected number of times. "
   ]
  },
  {
   "cell_type": "code",
   "execution_count": 56,
   "metadata": {
    "deletable": false,
    "nbgrader": {
     "cell_type": "code",
     "checksum": "9641cc289d555169a3b843903f1b5452",
     "grade": true,
     "grade_id": "cell-6db776985174dd90",
     "locked": false,
     "points": 5,
     "schema_version": 3,
     "solution": true,
     "task": false
    }
   },
   "outputs": [],
   "source": [
    "def pocket(x, y, T):\n",
    "    \n",
    "    #Create Weight Vector\n",
    "    w = np.zeros(len(x[0]))\n",
    "    \n",
    "    minErr = 1000000;  #arbitrarily selected large number for minErr, known to be larger than the maximum in-sample error\n",
    "    wPocket = PLA(w, x, y, 1);\n",
    "\n",
    "    #Run PLA T times and save the weight vector with the lowest error. \n",
    "    for i in range(T): \n",
    "        \n",
    "        #Run PLA to obtain next weight vector\n",
    "        w = PLA(w, x, y, 1)\n",
    "        \n",
    "        #Evalueate Ein \n",
    "        Ein = ErrorRate(w, x, y)\n",
    "\n",
    "        #Save the new weight vector if it produces a lower error than previous weight \n",
    "        if(Ein < minErr):\n",
    "            minErr = Ein\n",
    "            wPocket = np.copy(w)\n",
    "    return wPocket"
   ]
  },
  {
   "cell_type": "markdown",
   "metadata": {
    "deletable": false,
    "editable": false,
    "nbgrader": {
     "cell_type": "markdown",
     "checksum": "a5f59bdc0a619eaf1c7fbecc1850c6ca",
     "grade": false,
     "grade_id": "cell-d4700c0f8f5efa9b",
     "locked": true,
     "schema_version": 3,
     "solution": false,
     "task": false
    }
   },
   "source": [
    "Test the `pocket` function by training the classifier on the training data `(trainData, trainTarget)` with 100 iterations, and measuring the cassification error using the testing data `(testData, testTarget)`. Write the test script into the box below and let it print the classiciation error."
   ]
  },
  {
   "cell_type": "code",
   "execution_count": 57,
   "metadata": {
    "deletable": false,
    "nbgrader": {
     "cell_type": "code",
     "checksum": "75dcbaf25c695d58723ac914b8f11732",
     "grade": true,
     "grade_id": "cell-87a6bd87fb24fb25",
     "locked": false,
     "points": 5,
     "schema_version": 3,
     "solution": true,
     "task": false
    }
   },
   "outputs": [
    {
     "name": "stdout",
     "output_type": "stream",
     "text": [
      "0.034482758620689655\n"
     ]
    }
   ],
   "source": [
    "trainData, validData, testData, trainTarget, validTarget, testTarget = loadData()\n",
    "\n",
    "#flatten x matrix from 28x28 to 784x1 vector and add bias to each input set\n",
    "x_train = [k.flatten() for k in trainData]\n",
    "x_train = np.hstack( (np.vstack(np.ones(len(x_train))), x_train) )\n",
    "x_valid = [k.flatten() for k in validData]\n",
    "x_valid = np.hstack( (np.vstack(np.ones(len(x_valid))), x_valid) )\n",
    "x_test = [k.flatten() for k in testData]\n",
    "x_test = np.hstack( (np.vstack(np.ones(len(x_test))), x_test) )\n",
    "\n",
    "#re-scale y vector from 0->1 to -1->+1\n",
    "y_train = [-1+2*k[0] for k in trainTarget]\n",
    "y_valid = [-1+2*k[0] for k in validTarget]\n",
    "y_test = [-1+2*k[0] for k in testTarget]\n",
    "\n",
    "#run pocket algorithm and output in-sample error for test dataset. \n",
    "wp = pocket(x_train, y_train, 100)\n",
    "print(ErrorRate(wp, x_test, y_test))"
   ]
  },
  {
   "cell_type": "markdown",
   "metadata": {
    "deletable": false,
    "editable": false,
    "nbgrader": {
     "cell_type": "markdown",
     "checksum": "f6a7ed57aa02cf3caa6db301fda7f05c",
     "grade": false,
     "grade_id": "cell-a22b06b71e7333b8",
     "locked": true,
     "schema_version": 3,
     "solution": false,
     "task": false
    }
   },
   "source": [
    "State the test error results for the PLA and pocket algorithm that you obtained. Briefly discuss if they are as you expected and why or why not."
   ]
  },
  {
   "cell_type": "markdown",
   "metadata": {
    "deletable": false,
    "nbgrader": {
     "cell_type": "markdown",
     "checksum": "2045865b533306dadc6541971809cc72",
     "grade": true,
     "grade_id": "cell-ee0749d36e1f6ba7",
     "locked": false,
     "points": 2,
     "schema_version": 3,
     "solution": true,
     "task": false
    }
   },
   "source": [
    "The PLA had a test error of 0.02759\n",
    "\n",
    "The pocket algorithm had a test error of 0.03448\n",
    "\n",
    "The PLA will train the entire set of input data and outputs the final updated weights. The pocket algorithm evaluates the error after each PLA update and saves weight file with the lowest error. \n",
    "\n",
    "As PLA proceeds to update weights, the error can go up and down as different training inputs will train the weights in different directions which are best for that training cycle, not the general dataset. The pocket algorithm overcomes this by only saving the set of weights which solve the training set with the lowest error. \n",
    "\n",
    "It was expected that the pocket algorithm would train the weights to better predict the test set. However it was observed that the PLA trained the weights better to predict the test set. By chance, the final updates in the PLA algorithm produced a weight set to better predict the test set than the 'pocketed' weights which best predicted the training set. \n",
    "\n",
    "In other words, the best set of weights trained in the pocket algorithm is best suited for the training set. When the weights were used to predict the target of the test set it produced a slightly higher error. "
   ]
  },
  {
   "cell_type": "markdown",
   "metadata": {
    "deletable": false,
    "editable": false,
    "nbgrader": {
     "cell_type": "markdown",
     "checksum": "a991507e56c1c7bb3a0f686df6e80515",
     "grade": false,
     "grade_id": "cell-e63e3e21f2a9ad08",
     "locked": true,
     "schema_version": 3,
     "solution": false,
     "task": false
    }
   },
   "source": [
    "## Logistic Regression\n",
    "\n",
    "The second classifier we consider is logistic regression.  Logistic regression computes the probability measure\n",
    "$$\\hat{y}=\\theta(\\underline{w}^T\\underline{x})$$\n",
    "for a feature vector $\\underline{x}$, where $\\theta(z)=\\mathrm{e}^s/(1+\\mathrm{e}^s)$ is the logistic function. Given $N$ data samples $\\underline{x}_n$ and labels $y_n$, the error measure for logistic regression is the binary cross-entropy loss\n",
    "$$L(\\underline{w})=\\frac{1}{N}\\sum\\limits_{n=1}^N\\left[-y_n\\log\\left(\\hat{y}(\\underline{x}_n)\\right)-(1-y_n)\\log\\left(1-\\hat{y}(\\underline{x}_n)\\right)\\right]\\;.$$\n",
    "For the following, you will consider the regularized loss function\n",
    "$$L_\\lambda(\\underline{w})=\\frac{1}{N}\\sum\\limits_{n=1}^N\\left[-y_n\\log\\left(\\hat{y}(\\underline{x}_n)\\right)-(1-y_n)\\log\\left(1-\\hat{y}(\\underline{x}_n)\\right)\\right]+\\frac{\\lambda}{2}\\|\\underline{w}\\|_2^2$$\n",
    "with the regularization parameter $\\lambda \\ge 0$. \n",
    "\n",
    "The training of the weight vector $\\underline{w}$ will be performed through batch gradient descent. \n"
   ]
  },
  {
   "cell_type": "markdown",
   "metadata": {
    "deletable": false,
    "editable": false,
    "nbgrader": {
     "cell_type": "markdown",
     "checksum": "db5e733b839e11cc95526c870678e2a1",
     "grade": false,
     "grade_id": "cell-68358d532c780cc5",
     "locked": true,
     "schema_version": 3,
     "solution": false,
     "task": false
    }
   },
   "source": [
    "# Loss function [3 points]\n",
    "\n",
    "Implement a function to compute the regularized cross-entropy loss as defined above. The function has four input arguments: the weight vector, the feature vectors, the labels, and the regularization parameter. It returns the regularized loss."
   ]
  },
  {
   "cell_type": "code",
   "execution_count": 9,
   "metadata": {
    "deletable": false,
    "nbgrader": {
     "cell_type": "code",
     "checksum": "364ced88d6193816c529eb80c8df2b34",
     "grade": true,
     "grade_id": "cell-aebbe742cfbb66f8",
     "locked": false,
     "points": 3,
     "schema_version": 3,
     "solution": true,
     "task": false
    }
   },
   "outputs": [],
   "source": [
    "def sigmoid(x):\n",
    "    return (1/(1+np.exp(-x)))\n",
    "\n",
    "def crossEntropyLoss(w, x, y, reg):\n",
    "    L = 0;\n",
    "    N = len(x)\n",
    "    for i in range(N):\n",
    "        y_hat = sigmoid(np.dot(w,x[i])).clip(10**(-10), 1 - 10**(-10))\n",
    "        L += ( -1*y[i]*np.log(y_hat) - (1 - y[i])*np.log(1 - y_hat) )\n",
    "    L /= N     \n",
    "    L = L + (reg/2*np.power(np.linalg.norm(w), 2))/len(y)\n",
    "                        \n",
    "    return L   "
   ]
  },
  {
   "cell_type": "markdown",
   "metadata": {
    "deletable": false,
    "editable": false,
    "nbgrader": {
     "cell_type": "markdown",
     "checksum": "e75d612d7fa35907b7240385d95df34f",
     "grade": false,
     "grade_id": "cell-8d0a18f2be2713da",
     "locked": true,
     "schema_version": 3,
     "solution": false,
     "task": false
    }
   },
   "source": [
    "### Gradient [4 points]\n",
    "\n",
    "Provide an analytical expression for the gradient of the regularized cross-entropy loss with respect to the weight vector."
   ]
  },
  {
   "cell_type": "markdown",
   "metadata": {
    "deletable": false,
    "nbgrader": {
     "cell_type": "markdown",
     "checksum": "b4d7b1b6eb20f9afc7eff02678dc1ec9",
     "grade": true,
     "grade_id": "cell-bea8165ab7196506",
     "locked": false,
     "points": 2,
     "schema_version": 3,
     "solution": true,
     "task": false
    }
   },
   "source": [
    "$$\n",
    "g_t = \\nabla L_ \\lambda (\\underline w) = \\frac{1}{N} \\sum_{n=1}^{N}\\biggl[-y_n \\frac{\\hat y'(\\underline x_n)} {\\hat y(\\underline x_n)} - (1-y_n) \\frac{-\\hat y'(\\underline x_n)}{(1- \\hat y(\\underline x_n))} \\biggr] + \\lambda \\underline w \\\\\n",
    "$$\n",
    "$$\n",
    "\\tag{1}\\label{1} 1g_t = \\frac{1}{N} \\sum_{n=1}^{N}\\biggl[ \\frac{ \\hat y'(\\underline x_n)(\\hat y (\\underline x_n)-y_n)}{\\hat y(\\underline x_n) ( 1 - \\hat y(\\underline x_n) )} \\biggr] + \\lambda \\underline w \\\\ \n",
    "$$\n",
    "$$\n",
    "where \\;\\;\\; \\hat y'(\\underline x_n)= \\frac{d}{dw} \\theta(\\underline w^T \\underline x_n) = \\frac{\\underline x_n e^{-\\underline w^T \\underline x_n}}{(1 + e^{-\\underline w^T \\underline x_n})^2}  \\\\\n",
    "\\\n",
    "which \\ simplifies \\ to \\;\\;\\;  \\hat y'(\\underline x_n)= \\underline x_n \\theta(\\underline w^T \\underline x_n) ( 1 - \\theta(\\underline w^T \\underline x_n)) \\\\\n",
    "$$\n",
    "$$\n",
    "\\tag{2}\\label{2} or \\;\\;\\; y'(\\underline x_n)= \\underline{x_n} \\hat{y}(\\underline x_n) (1 - \\hat{y}(\\underline x_n)) \n",
    "$$\n",
    "$$\n",
    "\\tag{3}\\label{3} Combining \\ \\ref{1} \\  and \\ \\ref{2}: \\;\\;\\; g_t = \\frac{1}{N} \\sum_{n=1}^{N} \\biggl[ \\underline x_n (\\hat y (\\underline x_n)-y_n) \\biggr] + \\lambda \\underline w \\\\ \n",
    "$$"
   ]
  },
  {
   "cell_type": "markdown",
   "metadata": {
    "deletable": false,
    "editable": false,
    "nbgrader": {
     "cell_type": "markdown",
     "checksum": "20569096badf58c8909bc82a5df77f5b",
     "grade": false,
     "grade_id": "cell-8f0c5afca5e9d417",
     "locked": true,
     "schema_version": 3,
     "solution": false,
     "task": false
    }
   },
   "source": [
    "Implement a function to compute the gradient. The function has four input arguments: the weight vector, the feature vectors, the labels, and the regularization parameter. It returns the gradient."
   ]
  },
  {
   "cell_type": "code",
   "execution_count": 10,
   "metadata": {
    "deletable": false,
    "nbgrader": {
     "cell_type": "code",
     "checksum": "f8488b92818298680af5f1328ae5f347",
     "grade": true,
     "grade_id": "cell-b39c8177911aa256",
     "locked": false,
     "points": 2,
     "schema_version": 3,
     "solution": true,
     "task": false
    }
   },
   "outputs": [],
   "source": [
    "def gradCE(w, x, y, reg):\n",
    "    \n",
    "    N = len(x)\n",
    "    sum_vector = np.zeros(len(x[0]))\n",
    "    \n",
    "    for i in range(N):\n",
    "        sum_vector += x[i] * (sigmoid(np.dot(w,x[i])) - y[i]);\n",
    "        \n",
    "    return sum_vector/N + reg*w"
   ]
  },
  {
   "cell_type": "markdown",
   "metadata": {
    "deletable": false,
    "editable": false,
    "nbgrader": {
     "cell_type": "markdown",
     "checksum": "4f73e7673edffccd37ae61138a708241",
     "grade": false,
     "grade_id": "cell-e62e6251dc4d5a69",
     "locked": true,
     "schema_version": 3,
     "solution": false,
     "task": false
    }
   },
   "source": [
    "### Gradient Descent Implementation [5 points]\n",
    "Using the gradient and cross-entropy loss function above, implement the batch gradient descent algorithm. The function should accept seven arguments: the weight vector, the feature vectors, the labels, the learning rate, the number of epochs, the regularization parameter, and an error tolerance (set to $10^{-7}$ for the experiments). The error tolerance will be used to terminate the gradient descent early, if the difference (i.e., its 2-norm) between the old and updated weights after one iteration is below the error tolerance. The function should return the optimized weight vector and the learning error. "
   ]
  },
  {
   "cell_type": "code",
   "execution_count": 13,
   "metadata": {
    "deletable": false,
    "nbgrader": {
     "cell_type": "code",
     "checksum": "0b2882a29db4cb0850585ece871680d6",
     "grade": true,
     "grade_id": "cell-df585dbae385a61c",
     "locked": false,
     "points": 5,
     "schema_version": 3,
     "solution": true,
     "task": false
    }
   },
   "outputs": [],
   "source": [
    "def grad_descent(w, x, y, eta, iterations, reg, error_tol):\n",
    "    \n",
    "    error = np.zeros(iterations)\n",
    "    w1 = np.copy(w);\n",
    "    g = gradCE(w1, x, y, reg)\n",
    "    v = -1.0*g / np.linalg.norm(g)\n",
    "    w = w + eta*v\n",
    "    error[0] = crossEntropyLoss(w1, x, y, reg)\n",
    "        \n",
    "    for i in range(1, iterations):\n",
    "        \n",
    "        #calculate opposite direction of gradient\n",
    "        g = gradCE(w1, x, y, reg)\n",
    "        v = -1.0*g / np.linalg.norm(g)\n",
    "        \n",
    "        #save previous weights for error calculations\n",
    "        w_prev = w1\n",
    "        \n",
    "        #update weights\n",
    "        w1 = w1 + eta*v\n",
    "        \n",
    "        #calculate cross entropy loss and save in list\n",
    "        error[i] = crossEntropyLoss(w1, x, y, reg)\n",
    "        \n",
    "        #calulate norm of difference between previous and current weights; exit if error lwee than error_tol\n",
    "        err_dif = np.linalg.norm(w_prev - w1);\n",
    "        if(err_dif < error_tol): \n",
    "            return w1, error   \n",
    "    \n",
    "    return w1, error  "
   ]
  },
  {
   "cell_type": "markdown",
   "metadata": {
    "deletable": false,
    "editable": false,
    "nbgrader": {
     "cell_type": "markdown",
     "checksum": "210fb89fe9e58d3cc7ae4d8767f0a92f",
     "grade": false,
     "grade_id": "cell-d446b8d2bb035471",
     "locked": true,
     "schema_version": 3,
     "solution": false,
     "task": false
    }
   },
   "source": [
    "### Tuning the Learning Rate [6 Points]: \n",
    "Write a script that excutes logistic regression using the gradient descent function from above to classify the two classes in the notMNIST dataset, loaded with the  `loadData` function. \n",
    "\n",
    "Set the number of epochs to $5,000$ and use the regularization parameter $\\lambda=0$. \n",
    "\n",
    "For the learning rate, consider $\\eta=5\\cdot 10^{-3},\\,10^{-3},\\,10^{-4}$.\n",
    "\n",
    "Train the classifier on the training data (`trainData, trainTarget`).\n",
    "\n",
    "The script should plot the training loss as a function of the number of training epochs and output the test loss."
   ]
  },
  {
   "cell_type": "code",
   "execution_count": 12,
   "metadata": {
    "deletable": false,
    "nbgrader": {
     "cell_type": "code",
     "checksum": "6ad70c3f83e48152234d667aaec5df51",
     "grade": true,
     "grade_id": "cell-776e56a74f0c1ff1",
     "locked": false,
     "points": 5,
     "schema_version": 3,
     "solution": true,
     "task": false
    }
   },
   "outputs": [
    {
     "name": "stdout",
     "output_type": "stream",
     "text": [
      "Test Loss for $\\eta$ = 0.005:  [0.15029116]\n",
      "Test Loss for $\\eta$ = 0.001:  [0.08986244]\n",
      "Test Loss for $\\eta$ = 0.0001:  [0.14680297]\n"
     ]
    },
    {
     "data": {
      "image/png": "[encoded data removed]",
      "text/plain": [
       "<Figure size 432x288 with 1 Axes>"
      ]
     },
     "metadata": {
      "needs_background": "light"
     },
     "output_type": "display_data"
    }
   ],
   "source": [
    "trainData, validData, testData, trainTarget, validTarget, testTarget = loadData()\n",
    "\n",
    "#flatten x matrix from 28x28 to 784x1 vector and add bias to each input set\n",
    "x_train = [k.flatten() for k in trainData]\n",
    "x_train = np.hstack( (np.vstack(np.ones(len(x_train))), x_train) )\n",
    "x_test = [k.flatten() for k in testData]\n",
    "x_test = np.hstack( (np.vstack(np.ones(len(x_test))), x_test) )\n",
    "\n",
    "\n",
    "#Create Weight Vector\n",
    "w = np.zeros(len(x_train[0]))\n",
    "w1, err1 = grad_descent(w, x_train, trainTarget, 0.005, 5000, 0, 10**-7)\n",
    "w2, err2 = grad_descent(w, x_train, trainTarget, 0.001, 5000, 0, 10**-7)\n",
    "w3, err3 = grad_descent(w, x_train, trainTarget, 0.0001, 5000, 0, 10**-7)\n",
    "\n",
    "plt.plot(err1, label='$\\eta$ = 0.005');\n",
    "plt.plot(err2, label='$\\eta$ = 0.001');\n",
    "plt.plot(err3, label='$\\eta$ = 0.0001');\n",
    "plt.ylabel('Training Loss');\n",
    "plt.xlabel('Epochs');\n",
    "plt.legend(bbox_to_anchor=(0., 1.02, 1., .102), loc='lower left',\n",
    "           ncol=3, mode=\"expand\", borderaxespad=0.)\n",
    "\n",
    "print('Test Loss for \\u03B7 = 0.005: ', crossEntropyLoss(w1, x_test, testTarget, 0))\n",
    "print('Test Loss for \\u03B7 = 0.001: ', crossEntropyLoss(w2, x_test, testTarget, 0))\n",
    "print('Test Loss for \\u03B7 = 0.0001: ', crossEntropyLoss(w3, x_test, testTarget, 0))\n"
   ]
  },
  {
   "cell_type": "markdown",
   "metadata": {
    "deletable": false,
    "editable": false,
    "nbgrader": {
     "cell_type": "markdown",
     "checksum": "f6d913fa578e2f1de303a3500bc7bbb7",
     "grade": false,
     "grade_id": "cell-c6f7f54f2dff0f79",
     "locked": true,
     "schema_version": 3,
     "solution": false,
     "task": false
    }
   },
   "source": [
    "Briefly discuss the impact of $\\eta$ on the training time. "
   ]
  },
  {
   "cell_type": "markdown",
   "metadata": {
    "deletable": false,
    "nbgrader": {
     "cell_type": "markdown",
     "checksum": "6378c65241ef1cda0ffdcfba2f93af52",
     "grade": true,
     "grade_id": "cell-6e645f7cd4e256f0",
     "locked": false,
     "points": 1,
     "schema_version": 3,
     "solution": true,
     "task": false
    }
   },
   "source": [
    "When increased, $\\eta$ was observed to shorten the training time. Higher values of $\\eta$ increase the change in $\\underline w$ each update as it trends towards the minima. This in turn reduces the number of epochs required to reach an acceptable minima for the training set. \n",
    "\n",
    "Note, increasing $\\eta$ too much may cause the regression to overshoot the minima and oscillate with an unfavorable magnitude. Lowering this value too much will take longer to solve. \n",
    "\n",
    "$\\eta = 0.001$ apeared to be a sweet-spot for training the weights, producing the lowest cross-entropy loss in the test set after 5000 iterations. This implies the weights generalized better (without addition of the generalization term) than $\\eta = 0.005$ and $\\eta = 0.0001$. $\\eta = 0.0001$ still had a high training loss after 5000 iterations, thus did not converge to a good solution compared to $\\eta = 0.001$"
   ]
  },
  {
   "cell_type": "markdown",
   "metadata": {
    "deletable": false,
    "editable": false,
    "nbgrader": {
     "cell_type": "markdown",
     "checksum": "f98ad898635a4e20c0ba17d09b766a25",
     "grade": false,
     "grade_id": "cell-0db7ea466ea500bf",
     "locked": true,
     "schema_version": 3,
     "solution": false,
     "task": false
    }
   },
   "source": [
    "### Generalization [3 points]:\n",
    "Fix the learning rate to $\\eta=0.005$, and consider values for the regularization parameter $\\lambda = 0.001,\\, 0.01,\\, 0.1$. Measure the validation and test losses and state them in your answer below. Comment on the effect of regularization on performance as well as the rationale behind tuning $\\eta$ using the validation set."
   ]
  },
  {
   "cell_type": "markdown",
   "metadata": {
    "deletable": false,
    "nbgrader": {
     "cell_type": "markdown",
     "checksum": "7c70cce6d267ed7403506522ebda6b51",
     "grade": true,
     "grade_id": "cell-eac467078c174916",
     "locked": false,
     "points": 3,
     "schema_version": 3,
     "solution": true,
     "task": false
    }
   },
   "source": [
    "(Note, the question above asks to comment on the effect of $\\eta$. This should ask to comment on $\\lambda$, which has been done below.) \n",
    "\n",
    "The following table summarizes the validation and test data errors as the three tested values of $\\lambda$. Rather, this is the classification accruacy obntained by computing the cross-entropy-loss for the test and validation data using weights trained with the training data suing varied regularization rates. The cross-entropy loss does not use the regularization for the test and validation data errors. \n",
    "\n",
    "$$\n",
    "\\begin{array} {|r|r|}\\hline \\lambda & Validation\\ Data & Test\\ Data \\\\ \\hline 0.0 & 0.1731 & 0.1503 \\\\ \\hline 0.001 & 0.0974 & 0.0893 \\\\ \\hline 0.01 & 0.0918 & 0.0861 \\\\ \\hline 0.1 & 0.1100 & 0.0989 \\\\ \\hline  \\end{array}\n",
    "$$\n",
    "\n",
    "Tuning the regularization parameter $\\lambda$ optimizes the weights by solving the problem of overfitting. Overfitting implies the weights are trained to best fit the training set, but do not generalize well to create the best solution for all possible datasets. Tuning $\\lambda$ finds the best regularization value to suit all data. \n",
    "\n",
    "$\\lambda$ cab be optimized by observing error in the validation set as well as the training error during training. Overfitting can be observed during the training process by checking the validation dataset errors. If the validation error increases while training error decreases, overfitting may be occurring. A properly tuned $\\lambda$ will ensure both the training and validation errors decrease during training. \n",
    "\n",
    "When training is complete, the weights will be biased to fit both the training and validation dataset. The test set is used independenly of all hyperparameter tuning to assess the error of the trained weights. \n",
    "\n",
    "In this experiment, a sweet spot was observed in selecting $\\lambda$ as seen in the table above. $\\lambda = 0.01$ generalized the training data to best fit the validation and test set better than $\\lambda = 0.001$ and $\\lambda = 0.1$. Less regularization will trend to overfitting the data. Too much regularization may overgeneralize the weights so that they do not provide the lowest average error for all possible data. \n",
    "\n",
    "\n"
   ]
  },
  {
   "cell_type": "code",
   "execution_count": null,
   "metadata": {},
   "outputs": [],
   "source": [
    " "
   ]
  }
 ],
 "metadata": {
  "kernelspec": {
   "display_name": "Python 3",
   "language": "python",
   "name": "python3"
  },
  "language_info": {
   "codemirror_mode": {
    "name": "ipython",
    "version": 3
   },
   "file_extension": ".py",
   "mimetype": "text/x-python",
   "name": "python",
   "nbconvert_exporter": "python",
   "pygments_lexer": "ipython3",
   "version": "3.7.3"
  }
 },
 "nbformat": 4,
 "nbformat_minor": 2
}
